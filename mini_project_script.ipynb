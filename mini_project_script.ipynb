{
 "cells": [
  {
   "cell_type": "markdown",
   "id": "72af5ba1",
   "metadata": {},
   "source": [
    "### Telco of Tomorrow\n",
    "#### Setting\n",
    "- Audience: Senior Leaders at Telco\n",
    "- Location: In person\n",
    "- Display: Large display\n"
   ]
  },
  {
   "cell_type": "markdown",
   "id": "0fadc655",
   "metadata": {},
   "source": [
    "##### Slide 1\n",
    "Hello and good afternoon everyone. Welcome to the Telco of Tomorrow. My name is Michael Haerle, and today we will be talking about the key drivers of churn and using them to predict which customers are at risk of churn. \n",
    "\n",
    "##### Slide 2\n",
    "On our agenda for today, we will be going over our executive summary, 3 of our major findings, our best performing model, conclusion, and recommendations.\n",
    "\n",
    "##### Slide 3\n",
    "If there was one main takeaway for today it would be that keeping our customers above average tenure or below the average monthly charge will greatly reduce the risk of churn. Some recommedations to remedy this are incetivizing one and two year contracts as opposed to month to month contracts, keeping people below the average monthly charge or above the average tenure. We would also like to look further into the relationship between females who have phone service and churn. \n",
    "\n",
    "##### Slide 4\n",
    "Looking at our first finding, the chart on the right shows that month to month contracts are more than twice as likely to churn while one and two year contracts are less then half the average rate of churn.\n",
    "\n",
    "##### Slide 5\n",
    "For our second finding it shows a relationship between females who have phone service and churn. This finding was not present for males and we would like to explore it further given more time. I beleive this could be a potential was to increase the accuracy of our model.\n",
    "\n",
    "##### Slide 6 (1:30 Halfway Point)\n",
    "For our final finding we dove into monthly charges and tenure and their relationship with churn. We discovered customers who are above the average monthly charge and below the average tenure are significantly more likely to churn. As you can see in the upper left quadrant of the chart there is a large cluster of our churning customer base, where as those that are either below the average monthly charge or above the average tenure have a much lower concentration of churning customers. \n",
    "\n",
    "##### Slide 7\n",
    "Using the discoveries of our findings we created a model using the random forest classification model giving us an accuracy of 81%. Our baseline accuracy was only at 73% by predicting all customers would not churn. \n",
    "\n",
    "##### Slide 8\n",
    "In conclusion, month to month contracts are more likely to churn, females who have phone service are more likely to churn, and customers who are above the average monthly charge and below the average tenure are more likely to churn. In addition, we now have a model that predicts churn 8% higher than our baseline. \n",
    "\n",
    "##### Slide 9\n",
    "So where do we go from here? We need to incentivize more people to sign one and two year contracts as opposed to month to month contracts, have people stay past the average tenure, or keep their monthly charge at or below the average, and look closer at the relationship between females who have phone service and churn. \n",
    "\n",
    "##### Slide 10 (~3min)\n",
    "Thank you all for your time, and have a good rest of your day. "
   ]
  },
  {
   "cell_type": "code",
   "execution_count": null,
   "id": "deafee01",
   "metadata": {},
   "outputs": [],
   "source": []
  }
 ],
 "metadata": {
  "kernelspec": {
   "display_name": "Python 3 (ipykernel)",
   "language": "python",
   "name": "python3"
  },
  "language_info": {
   "codemirror_mode": {
    "name": "ipython",
    "version": 3
   },
   "file_extension": ".py",
   "mimetype": "text/x-python",
   "name": "python",
   "nbconvert_exporter": "python",
   "pygments_lexer": "ipython3",
   "version": "3.9.12"
  }
 },
 "nbformat": 4,
 "nbformat_minor": 5
}
